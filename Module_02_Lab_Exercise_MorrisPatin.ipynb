{
  "cells": [
    {
      "cell_type": "markdown",
      "metadata": {},
      "source": [
        "# Module 2 Lab Exercise: Tools Used in Machine Learning\n",
        "\n",
        "## Learning Objectives\n",
        "By the end of this lab, you will be able to:\n",
        "- Set up and navigate Jupyter Notebook, Google Colab, and VS Code environments\n",
        "- Install and import essential Python libraries for machine learning\n",
        "- Create and format professional documentation using Markdown\n",
        "- Initialize a GitHub repository for your ML projects\n",
        "- Understand the basic workflow of data science tools\n",
        "\n",
        "## Prerequisites\n",
        "- Basic understanding of what machine learning is (Module 1)\n",
        "- Access to internet for downloading tools and datasets\n",
        "- A Google account (for Colab) or local Python installation\n",
        "\n",
        "---\n",
        "\n",
        "## Part 1: Environment Setup and Tool Overview\n",
        "\n",
        "### What are the main tools we'll use in this course?\n",
        "\n",
        "**Jupyter Notebook/Google Colab**: Interactive computing environments where you can write code, see results immediately, and document your work with text and visualizations.\n",
        "\n",
        "**Python Libraries**: Pre-written code packages that make machine learning tasks easier:\n",
        "- **Pandas**: For working with data (like Excel, but more powerful)\n",
        "- **NumPy**: For mathematical operations on arrays of numbers\n",
        "- **Matplotlib**: For creating charts and graphs\n",
        "- **Scikit-learn**: The main library for machine learning algorithms\n",
        "\n",
        "**GitHub**: A platform to store, share, and collaborate on code projects\n",
        "\n",
        "**VS Code**: A powerful text editor for writing and debugging code\n",
        "\n",
        "Let's start by setting up our environment!"
      ]
    },
    {
      "cell_type": "markdown",
      "metadata": {},
      "source": [
        "## Environment Setup Instructions\n",
        "\n",
        "### Option 1: Google Colab (Recommended for Beginners)\n",
        "1. Go to [colab.research.google.com](https://colab.research.google.com)\n",
        "2. Sign in with your Google account\n",
        "3. Click \"New Notebook\"\n",
        "4. You're ready to go! Libraries are pre-installed.\n",
        "\n",
        "### Option 2: Local Jupyter Notebook\n",
        "1. Install Python from [python.org](https://python.org)\n",
        "2. Open terminal/command prompt\n",
        "3. Run: `pip install jupyter pandas numpy matplotlib scikit-learn`\n",
        "4. Run: `jupyter notebook`\n",
        "5. Create a new notebook\n",
        "\n",
        "### Option 3: VS Code\n",
        "1. Download VS Code from [code.visualstudio.com](https://code.visualstudio.com)\n",
        "2. Install Python extension\n",
        "3. Install Jupyter extension\n",
        "4. Create a new .ipynb file\n",
        "\n",
        "**For this lab, we recommend starting with Google Colab as it requires no installation.**"
      ]
    },
    {
      "cell_type": "code",
      "execution_count": 18,
      "metadata": {},
      "outputs": [
        {
          "name": "stderr",
          "output_type": "stream",
          "text": [
            "508.03s - pydevd: Sending message related to process being replaced timed-out after 5 seconds\n"
          ]
        },
        {
          "name": "stdout",
          "output_type": "stream",
          "text": [
            "Defaulting to user installation because normal site-packages is not writeable\n",
            "Requirement already satisfied: pandas in /var/data/python/lib/python3.12/site-packages (2.3.3)\n",
            "Requirement already satisfied: numpy in /var/data/python/lib/python3.12/site-packages (2.3.3)\n",
            "Requirement already satisfied: matplotlib in /var/data/python/lib/python3.12/site-packages (3.10.6)\n",
            "Requirement already satisfied: scikit-learn in /var/data/python/lib/python3.12/site-packages (1.7.2)\n",
            "Requirement already satisfied: python-dateutil>=2.8.2 in /var/data/python/lib/python3.12/site-packages (from pandas) (2.9.0.post0)\n",
            "Requirement already satisfied: pytz>=2020.1 in /var/data/python/lib/python3.12/site-packages (from pandas) (2025.2)\n",
            "Requirement already satisfied: tzdata>=2022.7 in /var/data/python/lib/python3.12/site-packages (from pandas) (2025.2)\n",
            "Requirement already satisfied: contourpy>=1.0.1 in /var/data/python/lib/python3.12/site-packages (from matplotlib) (1.3.3)\n",
            "Requirement already satisfied: cycler>=0.10 in /var/data/python/lib/python3.12/site-packages (from matplotlib) (0.12.1)\n",
            "Requirement already satisfied: fonttools>=4.22.0 in /var/data/python/lib/python3.12/site-packages (from matplotlib) (4.60.1)\n",
            "Requirement already satisfied: kiwisolver>=1.3.1 in /var/data/python/lib/python3.12/site-packages (from matplotlib) (1.4.9)\n",
            "Requirement already satisfied: packaging>=20.0 in /usr/lib/python3.12/site-packages (from matplotlib) (25.0)\n",
            "Requirement already satisfied: pillow>=8 in /var/data/python/lib/python3.12/site-packages (from matplotlib) (11.3.0)\n",
            "Requirement already satisfied: pyparsing>=2.3.1 in /var/data/python/lib/python3.12/site-packages (from matplotlib) (3.2.5)\n",
            "Requirement already satisfied: scipy>=1.8.0 in /var/data/python/lib/python3.12/site-packages (from scikit-learn) (1.16.2)\n",
            "Requirement already satisfied: joblib>=1.2.0 in /var/data/python/lib/python3.12/site-packages (from scikit-learn) (1.5.2)\n",
            "Requirement already satisfied: threadpoolctl>=3.1.0 in /var/data/python/lib/python3.12/site-packages (from scikit-learn) (3.6.0)\n",
            "Requirement already satisfied: six>=1.5 in /usr/lib/python3.12/site-packages (from python-dateutil>=2.8.2->pandas) (1.17.0)\n",
            "Note: you may need to restart the kernel to use updated packages.\n"
          ]
        }
      ],
      "source": [
        "pip install pandas numpy matplotlib scikit-learn"
      ]
    },
    {
      "cell_type": "code",
      "execution_count": 19,
      "metadata": {},
      "outputs": [
        {
          "name": "stdout",
          "output_type": "stream",
          "text": [
            "✅ All libraries imported successfully!\n",
            "Pandas version: 2.3.3\n",
            "NumPy version: 2.3.3\n"
          ]
        }
      ],
      "source": [
        "# Install required libraries (uncomment if needed)\n",
        "# !pip install pandas numpy matplotlib scikit-learn\n",
        "\n",
        "# Import libraries with standard aliases\n",
        "\n",
        "import pandas as pd\n",
        "import numpy as np\n",
        "import matplotlib.pyplot as plt\n",
        "from sklearn import datasets\n",
        "import warnings\n",
        "warnings.filterwarnings('ignore')  # Hide warning messages for cleaner output\n",
        "\n",
        "print(\"✅ All libraries imported successfully!\")\n",
        "print(f\"Pandas version: {pd.__version__}\")\n",
        "print(f\"NumPy version: {np.__version__}\")"
      ]
    },
    {
      "cell_type": "markdown",
      "metadata": {},
      "source": [
        "## Part 2: Loading and Exploring Your First Dataset\n",
        "\n",
        "We'll use the famous Iris dataset - a classic dataset for beginners. It contains measurements of iris flowers from three different species."
      ]
    },
    {
      "cell_type": "code",
      "execution_count": null,
      "metadata": {},
      "outputs": [
        {
          "name": "stdout",
          "output_type": "stream",
          "text": [
            "Dataset loaded successfully!\n",
            "Dataset shape: (150, 4)\n",
            "Features: ['sepal length (cm)', 'sepal width (cm)', 'petal length (cm)', 'petal width (cm)']\n",
            "Target classes: ['setosa' 'versicolor' 'virginica']\n"
          ]
        }
      ],
      "source": [
        "# Load a simple dataset (Iris flowers - a classic beginner dataset)\n",
        "from sklearn.datasets import load_iris\n",
        "\n",
        "# Load the data\n",
        "iris = load_iris()\n",
        "print(\"Dataset loaded successfully!\")\n",
        "print(f\"Dataset shape: {iris.data.shape}\")\n",
        "print(f\"Features: {iris.feature_names}\")\n",
        "print(f\"Target classes: {iris.target_names}\")"
      ]
    },
    {
      "cell_type": "code",
      "execution_count": null,
      "metadata": {},
      "outputs": [
        {
          "name": "stdout",
          "output_type": "stream",
          "text": [
            "First 5 rows of our dataset:\n",
            "   sepal length (cm)  sepal width (cm)  petal length (cm)  petal width (cm)  \\\n",
            "0                5.1               3.5                1.4               0.2   \n",
            "1                4.9               3.0                1.4               0.2   \n",
            "2                4.7               3.2                1.3               0.2   \n",
            "3                4.6               3.1                1.5               0.2   \n",
            "4                5.0               3.6                1.4               0.2   \n",
            "\n",
            "  species  \n",
            "0  setosa  \n",
            "1  setosa  \n",
            "2  setosa  \n",
            "3  setosa  \n",
            "4  setosa  \n",
            "\n",
            "Dataset info:\n",
            "<class 'pandas.core.frame.DataFrame'>\n",
            "RangeIndex: 150 entries, 0 to 149\n",
            "Data columns (total 5 columns):\n",
            " #   Column             Non-Null Count  Dtype  \n",
            "---  ------             --------------  -----  \n",
            " 0   sepal length (cm)  150 non-null    float64\n",
            " 1   sepal width (cm)   150 non-null    float64\n",
            " 2   petal length (cm)  150 non-null    float64\n",
            " 3   petal width (cm)   150 non-null    float64\n",
            " 4   species            150 non-null    object \n",
            "dtypes: float64(4), object(1)\n",
            "memory usage: 6.0+ KB\n",
            "None\n"
          ]
        }
      ],
      "source": [
        "# Convert to pandas DataFrame for easier handling\n",
        "df = pd.DataFrame(iris.data, columns=iris.feature_names)\n",
        "df['species'] = iris.target_names[iris.target]\n",
        "\n",
        "# Display first few rows\n",
        "print(\"First 5 rows of our dataset:\")\n",
        "print(df.head())\n",
        "\n",
        "print(\"\\nDataset info:\")\n",
        "print(df.info())"
      ]
    },
    {
      "cell_type": "markdown",
      "metadata": {},
      "source": [
        "## Part 3: Creating Your First Visualization\n",
        "\n",
        "Data visualization is crucial in machine learning. Let's create a simple plot to understand our data."
      ]
    },
    {
      "cell_type": "code",
      "execution_count": null,
      "metadata": {},
      "outputs": [
        {
          "data": {
            "image/png": "[encoded data removed]",
            "text/plain": [
              "<Figure size 1000x600 with 1 Axes>"
            ]
          },
          "metadata": {},
          "output_type": "display_data"
        },
        {
          "name": "stdout",
          "output_type": "stream",
          "text": [
            "🎉 Congratulations! You've created your first data visualization!\n"
          ]
        }
      ],
      "source": [
        "# Create a simple scatter plot\n",
        "plt.figure(figsize=(10, 6))\n",
        "\n",
        "# Plot sepal length vs sepal width, colored by species\n",
        "species_colors = {'setosa': 'red', 'versicolor': 'blue', 'virginica': 'green'}\n",
        "\n",
        "for species in df['species'].unique():\n",
        "    species_data = df[df['species'] == species]\n",
        "    plt.scatter(species_data['sepal length (cm)'], \n",
        "                species_data['sepal width (cm)'],\n",
        "                c=species_colors[species], \n",
        "                label=species, \n",
        "                alpha=0.7)\n",
        "\n",
        "plt.xlabel('Sepal Length (cm)')\n",
        "plt.ylabel('Sepal Width (cm)')\n",
        "plt.title('Iris Dataset: Sepal Length vs Sepal Width')\n",
        "plt.legend()\n",
        "plt.grid(True, alpha=0.3)\n",
        "plt.show()\n",
        "\n",
        "print(\"🎉 Congratulations! You've created your first data visualization!\")"
      ]
    },
    {
      "cell_type": "markdown",
      "metadata": {},
      "source": [
        "## Part 4: Practice with Basic Data Operations\n",
        "\n",
        "Let's practice some basic data analysis operations that you'll use throughout the course."
      ]
    },
    {
      "cell_type": "code",
      "execution_count": null,
      "metadata": {},
      "outputs": [
        {
          "name": "stdout",
          "output_type": "stream",
          "text": [
            "Basic Statistics for Iris Dataset:\n",
            "========================================\n",
            "\n",
            "Mean values by species:\n",
            "            sepal length (cm)  sepal width (cm)  petal length (cm)  \\\n",
            "species                                                              \n",
            "setosa                  5.006             3.428              1.462   \n",
            "versicolor              5.936             2.770              4.260   \n",
            "virginica               6.588             2.974              5.552   \n",
            "\n",
            "            petal width (cm)  \n",
            "species                       \n",
            "setosa                 0.246  \n",
            "versicolor             1.326  \n",
            "virginica              2.026  \n",
            "\n",
            "Samples per species:\n",
            "species\n",
            "setosa        50\n",
            "versicolor    50\n",
            "virginica     50\n",
            "Name: count, dtype: int64\n"
          ]
        }
      ],
      "source": [
        "# Basic statistical analysis\n",
        "print(\"Basic Statistics for Iris Dataset:\")\n",
        "print(\"=\" * 40)\n",
        "\n",
        "# Calculate mean values for each species\n",
        "species_means = df.groupby('species').mean()\n",
        "print(\"\\nMean values by species:\")\n",
        "print(species_means)\n",
        "\n",
        "# Count samples per species\n",
        "species_counts = df['species'].value_counts()\n",
        "print(\"\\nSamples per species:\")\n",
        "print(species_counts)"
      ]
    },
    {
      "cell_type": "markdown",
      "metadata": {},
      "source": [
        "## Part 5: GitHub and Documentation Best Practices\n",
        "\n",
        "### Why GitHub for Machine Learning?\n",
        "- **Version Control**: Track changes to your code and data\n",
        "- **Collaboration**: Work with others on projects\n",
        "- **Portfolio**: Showcase your work to potential employers\n",
        "- **Backup**: Never lose your work\n",
        "\n",
        "### Basic GitHub Workflow:\n",
        "1. **Create Repository**: A folder for your project\n",
        "2. **Clone/Download**: Get the project on your computer\n",
        "3. **Add Files**: Put your notebooks and data\n",
        "4. **Commit**: Save a snapshot of your changes\n",
        "5. **Push**: Upload changes to GitHub\n",
        "\n",
        "### For This Course:\n",
        "- Create a repository named \"ITAI-1371-ML-Labs\"\n",
        "- Upload each lab notebook as you complete it\n",
        "- Include a README.md file describing your projects\n",
        "\n",
        "**Action Item**: After this lab, create your GitHub account and repository."
      ]
    },
    {
      "cell_type": "markdown",
      "metadata": {},
      "source": [
        "## Assessment: Tool Familiarity Check\n",
        "\n",
        "Complete the following tasks to demonstrate your understanding of the tools:"
      ]
    },
    {
      "cell_type": "code",
      "execution_count": null,
      "metadata": {},
      "outputs": [
        {
          "name": "stdout",
          "output_type": "stream",
          "text": [
            "Mean sepal length: 5.84 cm\n",
            "Standard deviation: 0.83 cm\n",
            "✅ Task 1 completed successfully!\n"
          ]
        }
      ],
      "source": [
        "# Task 1: Create a simple calculation using NumPy\n",
        "# Calculate the mean and standard deviation of sepal length\n",
        "\n",
        "sepal_lengths = df['sepal length (cm)']\n",
        "\n",
        "# Your code here:\n",
        "mean_sepal_length = np.mean(sepal_lengths)\n",
        "std_sepal_length = np.std(sepal_lengths)\n",
        "\n",
        "print(f\"Mean sepal length: {mean_sepal_length:.2f} cm\")\n",
        "print(f\"Standard deviation: {std_sepal_length:.2f} cm\")\n",
        "\n",
        "# Verification (don't modify)\n",
        "assert isinstance(mean_sepal_length, (float, np.floating)), \"Mean should be a number\"\n",
        "assert isinstance(std_sepal_length, (float, np.floating)), \"Std should be a number\"\n",
        "print(\"✅ Task 1 completed successfully!\")"
      ]
    },
    {
      "cell_type": "code",
      "execution_count": null,
      "metadata": {},
      "outputs": [
        {
          "data": {
            "image/png": "[encoded data removed]",
            "text/plain": [
              "<Figure size 800x500 with 1 Axes>"
            ]
          },
          "metadata": {},
          "output_type": "display_data"
        },
        {
          "name": "stdout",
          "output_type": "stream",
          "text": [
            "Species distribution: {'setosa': np.int64(50), 'versicolor': np.int64(50), 'virginica': np.int64(50)}\n",
            "✅ Task 2 completed successfully!\n"
          ]
        }
      ],
      "source": [
        "# Task 2: Create a simple bar chart showing species counts\n",
        "species_counts = df['species'].value_counts()\n",
        "\n",
        "plt.figure(figsize=(8, 5))\n",
        "plt.bar(species_counts.index, species_counts.values, color=['red', 'blue', 'green'])\n",
        "plt.title('Number of Samples per Species')\n",
        "plt.xlabel('Species')\n",
        "plt.ylabel('Count')\n",
        "plt.show()\n",
        "\n",
        "print(f\"Species distribution: {dict(species_counts)}\")\n",
        "print(\"✅ Task 2 completed successfully!\")"
      ]
    },
    {
      "cell_type": "markdown",
      "metadata": {},
      "source": [
        "## Your Analysis and Reflection\n",
        "\n",
        "**Instructions**: Complete the analysis below by editing this markdown cell.\n",
        "\n",
        "### My Observations About the Iris Dataset\n",
        "\n",
        "**Dataset Overview:**\n",
        "- Number of samples: 150\n",
        "- Number of features: 3\n",
        "- Number of classes: 3\n",
        "\n",
        "**Key Findings from the Visualization:**\n",
        "1. Setosa is smaller when it comes to length and petal size. \n",
        "2. Virginica is the longest when it comes to length.\n",
        "3. Finally, versicolor is the one in the middle.\n",
        "\n",
        "**Questions for Further Investigation:**\n",
        "- What was the purpose of the above dataset?\n",
        "- What will the information be used for in the future.\n",
        "\n",
        "**Reflection:**\n",
        "I learned the importance of statistics and also how to distinguish features within a dataset. This will help me later on when I learn more about machine learning.\n",
        "\n",
        "---\n",
        "*Note: This is practice for documenting your machine learning projects professionally.*"
      ]
    },
    {
      "cell_type": "markdown",
      "metadata": {},
      "source": [
        "## Lab Summary and Next Steps\n",
        "\n",
        "### What You've Accomplished:\n",
        "✅ Set up your machine learning development environment  \n",
        "✅ Imported and used essential Python libraries  \n",
        "✅ Loaded and explored your first dataset  \n",
        "✅ Created your first data visualization  \n",
        "✅ Practiced professional documentation with Markdown  \n",
        "✅ Learned about GitHub for project management  \n",
        "\n",
        "### Preparation for Module 3:\n",
        "In the next lab, you'll:\n",
        "- Learn about different types of machine learning\n",
        "- Build your first simple classifier\n",
        "- Understand the complete ML workflow\n",
        "- Work with more complex datasets\n",
        "\n",
        "### Action Items:\n",
        "1. **Create your GitHub account** and repository\n",
        "2. **Upload this completed notebook** to your repository\n",
        "3. **Experiment** with different visualizations using the Iris dataset\n",
        "4. **Practice** Markdown formatting in a new notebook\n",
        "\n",
        "### Resources for Continued Learning:\n",
        "- [Pandas Documentation](https://pandas.pydata.org/docs/)\n",
        "- [Matplotlib Gallery](https://matplotlib.org/stable/gallery/)\n",
        "- [GitHub Guides](https://guides.github.com/)\n",
        "- [Jupyter Notebook Tips](https://jupyter-notebook.readthedocs.io/)\n",
        "\n",
        "**Great job completing Module 2! You're now equipped with the essential tools for machine learning.** 🎉"
      ]
    }
  ],
  "metadata": {
    "kernelspec": {
      "display_name": "Python 3",
      "language": "python",
      "name": "python3"
    },
    "language_info": {
      "codemirror_mode": {
        "name": "ipython",
        "version": 3
      },
      "file_extension": ".py",
      "mimetype": "text/x-python",
      "name": "python",
      "nbconvert_exporter": "python",
      "pygments_lexer": "ipython3",
      "version": "3.12.11"
    }
  },
  "nbformat": 4,
  "nbformat_minor": 4
}
